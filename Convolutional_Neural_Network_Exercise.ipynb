{
  "nbformat": 4,
  "nbformat_minor": 0,
  "metadata": {
    "colab": {
      "provenance": [],
      "gpuType": "T4"
    },
    "kernelspec": {
      "name": "python3",
      "display_name": "Python 3"
    },
    "language_info": {
      "name": "python"
    },
    "accelerator": "GPU"
  },
  "cells": [
    {
      "cell_type": "code",
      "source": [
        "from google.colab import drive\n",
        "drive.mount('/content/drive')"
      ],
      "metadata": {
        "colab": {
          "base_uri": "https://localhost:8080/"
        },
        "id": "-Kxp0ZsPXKJ7",
        "outputId": "b742479f-2ca1-4f4e-ca1e-d9bb931cfb36"
      },
      "execution_count": 1,
      "outputs": [
        {
          "output_type": "stream",
          "name": "stdout",
          "text": [
            "Mounted at /content/drive\n"
          ]
        }
      ]
    },
    {
      "cell_type": "markdown",
      "source": [
        "# Exercise\n",
        "\n",
        " - Import data on emotion\n",
        " - Train a CNN to classify by emotion (Angry, Disgust, Fear, Happy...)\n",
        " - Use Data augmentaion techinques to improve you accuracy\n",
        " - Compare your results with DeepFace Library https://pypi.org/project/deepface/"
      ],
      "metadata": {
        "id": "1A4oknIAVJSA"
      }
    },
    {
      "cell_type": "code",
      "execution_count": 2,
      "metadata": {
        "id": "ia_vwwk7VF0y"
      },
      "outputs": [],
      "source": [
        "import pandas as pd\n",
        "import numpy as np\n",
        "import matplotlib.pyplot as plt\n",
        "import seaborn as sns\n",
        "import os\n",
        "from tabulate import tabulate\n",
        "\n",
        "import cv2 as cv\n",
        "import pathlib\n",
        "from PIL import Image\n",
        "\n",
        "from sklearn.metrics import accuracy_score,classification_report\n",
        "from sklearn.model_selection import train_test_split\n",
        "\n",
        "import tensorflow as tf\n",
        "from tensorflow.keras.models import Sequential\n",
        "from tensorflow.keras.layers import Dense, Dropout, BatchNormalization, Activation, Flatten, Conv2D, MaxPooling2D\n",
        "from tensorflow.keras.regularizers import l1, l2, l1_l2\n",
        "from tensorflow.keras.metrics import Recall, Precision\n",
        "from tensorflow.keras.callbacks import EarlyStopping\n",
        "from tensorflow.keras.preprocessing.image import ImageDataGenerator\n",
        "from tensorflow.keras.utils import to_categorical\n",
        "\n",
        "from skimage import color"
      ]
    },
    {
      "cell_type": "code",
      "source": [
        "url = '/content/drive/MyDrive/Advanced Data Analytics UAX-20231025T214223Z-001/Advanced Data Analytics UAX/data/4.-CNN/emotions'\n",
        "data = pathlib.Path(url)\n",
        "paths = {\n",
        "    \"Angry\": list(data.glob('Angry/*.png')),\n",
        "    \"Disgust\": list(data.glob('Disgust/*.png')),\n",
        "    \"Fear\": list(data.glob('Fear/*.png')),\n",
        "    \"Happy\" : list(data.glob('Happy/*.png')),\n",
        "    \"Neutral\" : list(data.glob('Neutral/*.png')),\n",
        "    \"Sad\" : list(data.glob('Sad/*.png')),\n",
        "    \"Surprise\" : list(data.glob('Surprise/*.png'))\n",
        "}\n",
        "\n",
        "labels = {\n",
        "    \"Angry\" : 0,\n",
        "    \"Disgust\":1,\n",
        "    \"Fear\":2,\n",
        "    \"Happy\":3,\n",
        "    \"Neutral\":4,\n",
        "    \"Sad\":5,\n",
        "    \"Surprise\":6\n",
        "}"
      ],
      "metadata": {
        "id": "ykmaP706Vw2Z"
      },
      "execution_count": 3,
      "outputs": []
    },
    {
      "cell_type": "code",
      "source": [
        "Image.open(str(paths[\"Happy\"][0]))"
      ],
      "metadata": {
        "colab": {
          "base_uri": "https://localhost:8080/",
          "height": 113
        },
        "id": "Yc8nYlX3WePm",
        "outputId": "615b6094-b047-4a72-db12-3c96fdc3c513"
      },
      "execution_count": 4,
      "outputs": [
        {
          "output_type": "execute_result",
          "data": {
            "text/plain": [
              "<PIL.PngImagePlugin.PngImageFile image mode=RGBA size=96x96>"
            ],
            "image/png": "[encoded data removed]"
          },
          "metadata": {},
          "execution_count": 4
        }
      ]
    },
    {
      "cell_type": "code",
      "source": [
        "X=[]\n",
        "y=[]\n",
        "\n",
        "for name, images in paths.items():\n",
        "    for image in images:\n",
        "        try:\n",
        "            image = str(image).strip()\n",
        "            img = cv.imread(image)\n",
        "            img_resize = cv.resize(img,(200,200))\n",
        "            X.append(img_resize)\n",
        "            y.append(labels[name])\n",
        "\n",
        "        except:\n",
        "            print('Except')\n",
        "\n",
        "X1 = np.array(X)\n",
        "X2 = color.rgb2gray(X1)\n",
        "y = np.array(y)\n",
        "\n",
        "# Obtén una permutación aleatoria para los índices de los arrays\n",
        "indices = np.random.permutation(len(X))\n",
        "\n",
        "# Baraja los arrays usando los índices permutados\n",
        "X1 = X1[indices]\n",
        "X2 = X2[indices]\n",
        "y = y[indices]\n",
        "\n",
        "X1.shape"
      ],
      "metadata": {
        "id": "RB5QCwD9WgOv",
        "colab": {
          "base_uri": "https://localhost:8080/"
        },
        "outputId": "66765e5b-f84b-4d3b-c419-435caebe504e"
      },
      "execution_count": 6,
      "outputs": [
        {
          "output_type": "execute_result",
          "data": {
            "text/plain": [
              "(221, 200, 200, 3)"
            ]
          },
          "metadata": {},
          "execution_count": 6
        }
      ]
    },
    {
      "cell_type": "code",
      "source": [
        "for label in y:\n",
        "  print(label)"
      ],
      "metadata": {
        "id": "ZfGRbIM_OGmc",
        "colab": {
          "base_uri": "https://localhost:8080/"
        },
        "outputId": "382b4027-2bbc-4052-84d3-da2fc807d406"
      },
      "execution_count": 7,
      "outputs": [
        {
          "output_type": "stream",
          "name": "stdout",
          "text": [
            "6\n",
            "0\n",
            "4\n",
            "1\n",
            "5\n",
            "1\n",
            "3\n",
            "0\n",
            "2\n",
            "5\n",
            "6\n",
            "2\n",
            "6\n",
            "0\n",
            "0\n",
            "6\n",
            "0\n",
            "0\n",
            "6\n",
            "4\n",
            "6\n",
            "4\n",
            "2\n",
            "3\n",
            "5\n",
            "0\n",
            "5\n",
            "1\n",
            "5\n",
            "1\n",
            "4\n",
            "5\n",
            "2\n",
            "5\n",
            "3\n",
            "0\n",
            "2\n",
            "1\n",
            "5\n",
            "6\n",
            "2\n",
            "6\n",
            "0\n",
            "2\n",
            "3\n",
            "4\n",
            "0\n",
            "1\n",
            "3\n",
            "1\n",
            "4\n",
            "3\n",
            "4\n",
            "3\n",
            "5\n",
            "6\n",
            "0\n",
            "5\n",
            "4\n",
            "1\n",
            "3\n",
            "6\n",
            "2\n",
            "2\n",
            "3\n",
            "3\n",
            "6\n",
            "3\n",
            "6\n",
            "0\n",
            "2\n",
            "6\n",
            "4\n",
            "0\n",
            "4\n",
            "6\n",
            "6\n",
            "0\n",
            "2\n",
            "2\n",
            "4\n",
            "0\n",
            "4\n",
            "1\n",
            "2\n",
            "6\n",
            "1\n",
            "1\n",
            "0\n",
            "3\n",
            "1\n",
            "3\n",
            "4\n",
            "4\n",
            "6\n",
            "2\n",
            "0\n",
            "5\n",
            "0\n",
            "0\n",
            "3\n",
            "1\n",
            "2\n",
            "5\n",
            "4\n",
            "4\n",
            "0\n",
            "0\n",
            "6\n",
            "2\n",
            "4\n",
            "5\n",
            "1\n",
            "3\n",
            "2\n",
            "0\n",
            "4\n",
            "6\n",
            "6\n",
            "4\n",
            "1\n",
            "5\n",
            "6\n",
            "3\n",
            "3\n",
            "4\n",
            "0\n",
            "6\n",
            "2\n",
            "5\n",
            "5\n",
            "5\n",
            "1\n",
            "1\n",
            "0\n",
            "2\n",
            "3\n",
            "0\n",
            "3\n",
            "0\n",
            "0\n",
            "6\n",
            "3\n",
            "3\n",
            "1\n",
            "3\n",
            "2\n",
            "3\n",
            "6\n",
            "3\n",
            "0\n",
            "1\n",
            "4\n",
            "5\n",
            "3\n",
            "3\n",
            "3\n",
            "2\n",
            "5\n",
            "6\n",
            "0\n",
            "4\n",
            "4\n",
            "2\n",
            "5\n",
            "3\n",
            "4\n",
            "0\n",
            "4\n",
            "6\n",
            "6\n",
            "6\n",
            "5\n",
            "5\n",
            "5\n",
            "3\n",
            "0\n",
            "5\n",
            "4\n",
            "3\n",
            "3\n",
            "3\n",
            "3\n",
            "1\n",
            "2\n",
            "2\n",
            "2\n",
            "3\n",
            "5\n",
            "6\n",
            "5\n",
            "5\n",
            "0\n",
            "1\n",
            "1\n",
            "0\n",
            "2\n",
            "0\n",
            "3\n",
            "1\n",
            "1\n",
            "3\n",
            "4\n",
            "4\n",
            "5\n",
            "4\n",
            "0\n",
            "2\n",
            "0\n",
            "0\n",
            "6\n",
            "1\n",
            "2\n",
            "5\n",
            "3\n",
            "2\n",
            "5\n",
            "3\n",
            "4\n",
            "2\n",
            "1\n"
          ]
        }
      ]
    },
    {
      "cell_type": "code",
      "source": [
        "plt.figure(figsize=(8, 3))\n",
        "g = sns.countplot(x = y)\n",
        "g.set_xticks(range(len(list(labels.keys()))))\n",
        "g.set_xticklabels(list(labels.keys()))\n",
        "plt.title('Data Imbalance')\n",
        "# plt.xlabel('emotions')\n",
        "plt.ylabel('Count')"
      ],
      "metadata": {
        "id": "5P17xgXbc5AN",
        "colab": {
          "base_uri": "https://localhost:8080/",
          "height": 331
        },
        "outputId": "74e4ffe6-cf85-4606-d330-9bbb09e1eff9"
      },
      "execution_count": 8,
      "outputs": [
        {
          "output_type": "execute_result",
          "data": {
            "text/plain": [
              "Text(0, 0.5, 'Count')"
            ]
          },
          "metadata": {},
          "execution_count": 8
        },
        {
          "output_type": "display_data",
          "data": {
            "text/plain": [
              "<Figure size 800x300 with 1 Axes>"
            ],
            "image/png": "[encoded data removed]"
          },
          "metadata": {}
        }
      ]
    },
    {
      "cell_type": "code",
      "source": [
        "y = to_categorical(y)\n",
        "X_train2, X_test2, y_train2, y_test2 = train_test_split(X1, y, test_size=0.2, random_state=42)\n",
        "X_train, X_test, y_train, y_test = train_test_split(X2, y, test_size=0.2, random_state=42)\n",
        "X_train2.shape"
      ],
      "metadata": {
        "id": "YRONhh-ZX06H",
        "colab": {
          "base_uri": "https://localhost:8080/"
        },
        "outputId": "ab8b5d9f-6702-4c81-c67d-8200e841bfb1"
      },
      "execution_count": 9,
      "outputs": [
        {
          "output_type": "execute_result",
          "data": {
            "text/plain": [
              "(176, 200, 200, 3)"
            ]
          },
          "metadata": {},
          "execution_count": 9
        }
      ]
    },
    {
      "cell_type": "code",
      "source": [
        "from tensorflow.keras import optimizers\n",
        "\n",
        "model = Sequential()\n",
        "model.add(Conv2D(32,(3,3),padding='same',activation='relu',input_shape=(200,200,1)))\n",
        "model.add(Dropout(0.2))\n",
        "model.add(MaxPooling2D(pool_size=(2, 2), strides=1, padding=\"valid\"))\n",
        "model.add(Conv2D(64,(3,3),padding='same',activation='relu'))\n",
        "model.add(Dropout(0.4))\n",
        "model.add(MaxPooling2D())\n",
        "model.add(Conv2D(128,(3,3),padding='same',activation='relu'))\n",
        "model.add(Dropout(0.4))\n",
        "model.add(MaxPooling2D())\n",
        "model.add(Conv2D(256,(3,3),padding='same',activation='relu'))\n",
        "model.add(Dropout(0.2))\n",
        "model.add(MaxPooling2D())\n",
        "model.add(Flatten())\n",
        "model.add(Dense(512,activation='relu'))\n",
        "model.add(Dropout(0.2))\n",
        "model.add(Dense(128,activation='relu'))\n",
        "model.add(Dense(7,activation='softmax'))\n",
        "model.summary()\n"
      ],
      "metadata": {
        "id": "11bK8iJBgaTh",
        "colab": {
          "base_uri": "https://localhost:8080/"
        },
        "outputId": "e6c25f16-c4a2-44a0-dd52-44a1bf2f8b94"
      },
      "execution_count": 10,
      "outputs": [
        {
          "output_type": "stream",
          "name": "stdout",
          "text": [
            "Model: \"sequential\"\n",
            "_________________________________________________________________\n",
            " Layer (type)                Output Shape              Param #   \n",
            "=================================================================\n",
            " conv2d (Conv2D)             (None, 200, 200, 32)      320       \n",
            "                                                                 \n",
            " dropout (Dropout)           (None, 200, 200, 32)      0         \n",
            "                                                                 \n",
            " max_pooling2d (MaxPooling2  (None, 199, 199, 32)      0         \n",
            " D)                                                              \n",
            "                                                                 \n",
            " conv2d_1 (Conv2D)           (None, 199, 199, 64)      18496     \n",
            "                                                                 \n",
            " dropout_1 (Dropout)         (None, 199, 199, 64)      0         \n",
            "                                                                 \n",
            " max_pooling2d_1 (MaxPoolin  (None, 99, 99, 64)        0         \n",
            " g2D)                                                            \n",
            "                                                                 \n",
            " conv2d_2 (Conv2D)           (None, 99, 99, 128)       73856     \n",
            "                                                                 \n",
            " dropout_2 (Dropout)         (None, 99, 99, 128)       0         \n",
            "                                                                 \n",
            " max_pooling2d_2 (MaxPoolin  (None, 49, 49, 128)       0         \n",
            " g2D)                                                            \n",
            "                                                                 \n",
            " conv2d_3 (Conv2D)           (None, 49, 49, 256)       295168    \n",
            "                                                                 \n",
            " dropout_3 (Dropout)         (None, 49, 49, 256)       0         \n",
            "                                                                 \n",
            " max_pooling2d_3 (MaxPoolin  (None, 24, 24, 256)       0         \n",
            " g2D)                                                            \n",
            "                                                                 \n",
            " flatten (Flatten)           (None, 147456)            0         \n",
            "                                                                 \n",
            " dense (Dense)               (None, 512)               75497984  \n",
            "                                                                 \n",
            " dropout_4 (Dropout)         (None, 512)               0         \n",
            "                                                                 \n",
            " dense_1 (Dense)             (None, 128)               65664     \n",
            "                                                                 \n",
            " dense_2 (Dense)             (None, 7)                 903       \n",
            "                                                                 \n",
            "=================================================================\n",
            "Total params: 75952391 (289.74 MB)\n",
            "Trainable params: 75952391 (289.74 MB)\n",
            "Non-trainable params: 0 (0.00 Byte)\n",
            "_________________________________________________________________\n"
          ]
        }
      ]
    },
    {
      "cell_type": "code",
      "source": [
        "model.compile(loss='categorical_crossentropy', optimizer='adam', metrics=['acc'])\n",
        "history = model.fit(X_train, y_train, epochs=10, validation_data=(X_test, y_test), batch_size=32)"
      ],
      "metadata": {
        "id": "xpPoNwCiafwV",
        "colab": {
          "base_uri": "https://localhost:8080/"
        },
        "outputId": "835fd436-d7b0-4422-b92b-0f27ae345e62"
      },
      "execution_count": 31,
      "outputs": [
        {
          "output_type": "stream",
          "name": "stdout",
          "text": [
            "Epoch 1/10\n",
            "6/6 [==============================] - 10s 805ms/step - loss: 5.8438 - acc: 0.1534 - val_loss: 1.9466 - val_acc: 0.1778\n",
            "Epoch 2/10\n",
            "6/6 [==============================] - 1s 241ms/step - loss: 1.9473 - acc: 0.1705 - val_loss: 1.9518 - val_acc: 0.0889\n",
            "Epoch 3/10\n",
            "6/6 [==============================] - 1s 239ms/step - loss: 1.9156 - acc: 0.2045 - val_loss: 1.9484 - val_acc: 0.0889\n",
            "Epoch 4/10\n",
            "6/6 [==============================] - 1s 234ms/step - loss: 1.8680 - acc: 0.2102 - val_loss: 1.9324 - val_acc: 0.1778\n",
            "Epoch 5/10\n",
            "6/6 [==============================] - 1s 236ms/step - loss: 1.7881 - acc: 0.2784 - val_loss: 1.9006 - val_acc: 0.1778\n",
            "Epoch 6/10\n",
            "6/6 [==============================] - 1s 237ms/step - loss: 1.7036 - acc: 0.3693 - val_loss: 1.8254 - val_acc: 0.2444\n",
            "Epoch 7/10\n",
            "6/6 [==============================] - 1s 237ms/step - loss: 1.5537 - acc: 0.4148 - val_loss: 1.8498 - val_acc: 0.2889\n",
            "Epoch 8/10\n",
            "6/6 [==============================] - 1s 238ms/step - loss: 1.3783 - acc: 0.5568 - val_loss: 1.8117 - val_acc: 0.3111\n",
            "Epoch 9/10\n",
            "6/6 [==============================] - 1s 238ms/step - loss: 1.1448 - acc: 0.5739 - val_loss: 1.7888 - val_acc: 0.2667\n",
            "Epoch 10/10\n",
            "6/6 [==============================] - 2s 259ms/step - loss: 0.8978 - acc: 0.6932 - val_loss: 1.7060 - val_acc: 0.4000\n"
          ]
        }
      ]
    },
    {
      "cell_type": "code",
      "source": [
        "plt.subplot(211)\n",
        "plt.title('Accuracy')\n",
        "plt.plot(history.history['acc'], label='train')\n",
        "plt.plot(history.history['val_acc'], label='test')\n",
        "plt.legend()\n",
        "plt.show()\n",
        "\n",
        "plt.subplot(211)\n",
        "plt.title('Loss')\n",
        "plt.plot(history.history['loss'], label='train')\n",
        "plt.plot(history.history['val_loss'], label='test')\n",
        "plt.legend()\n",
        "plt.show()"
      ],
      "metadata": {
        "id": "jsDHXLh84gHH",
        "colab": {
          "base_uri": "https://localhost:8080/",
          "height": 485
        },
        "outputId": "7bd9da09-e48d-4272-bea5-db5bef87fb4f"
      },
      "execution_count": 32,
      "outputs": [
        {
          "output_type": "display_data",
          "data": {
            "text/plain": [
              "<Figure size 640x480 with 1 Axes>"
            ],
            "image/png": "[encoded data removed]"
          },
          "metadata": {}
        },
        {
          "output_type": "display_data",
          "data": {
            "text/plain": [
              "<Figure size 640x480 with 1 Axes>"
            ],
            "image/png": "[encoded data removed]"
          },
          "metadata": {}
        }
      ]
    },
    {
      "cell_type": "code",
      "source": [
        "img_gen = tf.keras.preprocessing.image.ImageDataGenerator(\n",
        "    # rescale=1./255,\n",
        "    rotation_range = 15,\n",
        "    width_shift_range = 0.1,\n",
        "    height_shift_range = 0.4,\n",
        "    # brightness_range = [0.2, 0.5],\n",
        "    vertical_flip = True,\n",
        "    horizontal_flip = True,\n",
        "    zoom_range = 0.2\n",
        "    )\n",
        "\n",
        "# img_gen.fit(X_train)\n",
        "augmented_data_generator  = img_gen.flow(X_train2, y_train2, batch_size=300) # ,subset='training',shuffle=True\n",
        "batch = augmented_data_generator.next()"
      ],
      "metadata": {
        "id": "R20H6i1x4-KA"
      },
      "execution_count": 11,
      "outputs": []
    },
    {
      "cell_type": "code",
      "source": [
        "imagen = Image.fromarray(np.uint8(batch[0][32]))\n",
        "imagen"
      ],
      "metadata": {
        "id": "wzSbfh5-6QPc",
        "colab": {
          "base_uri": "https://localhost:8080/",
          "height": 217
        },
        "outputId": "e71e501f-c3e5-4301-ffa9-5814684f9a9d"
      },
      "execution_count": 12,
      "outputs": [
        {
          "output_type": "execute_result",
          "data": {
            "text/plain": [
              "<PIL.Image.Image image mode=RGB size=200x200>"
            ],
            "image/png": "[encoded data removed]"
          },
          "metadata": {},
          "execution_count": 12
        }
      ]
    },
    {
      "cell_type": "code",
      "source": [
        "X_train_aug = np.concatenate((X_train2, batch[0]), axis=0)\n",
        "y_train_aug = np.concatenate((y_train2, batch[1]), axis=0)\n",
        "X_train_aug.shape"
      ],
      "metadata": {
        "id": "0abflasl8Dgk",
        "colab": {
          "base_uri": "https://localhost:8080/"
        },
        "outputId": "b069d575-2d2d-4309-c1b9-38f690b47aab"
      },
      "execution_count": 13,
      "outputs": [
        {
          "output_type": "execute_result",
          "data": {
            "text/plain": [
              "(352, 200, 200, 3)"
            ]
          },
          "metadata": {},
          "execution_count": 13
        }
      ]
    },
    {
      "cell_type": "code",
      "source": [
        "model = Sequential()\n",
        "model.add(Conv2D(32,(3,3),padding='same',activation='relu',input_shape=(200,200,3)))\n",
        "model.add(Dropout(0.4))\n",
        "model.add(MaxPooling2D(pool_size=(2, 2), strides=1, padding=\"valid\"))\n",
        "model.add(Conv2D(64,(3,3),padding='same',activation='relu'))\n",
        "model.add(Dropout(0.4))\n",
        "model.add(MaxPooling2D())\n",
        "model.add(Conv2D(128,(3,3),padding='same',activation='relu'))\n",
        "model.add(Dropout(0.2))\n",
        "model.add(MaxPooling2D())\n",
        "model.add(Conv2D(256,(3,3),padding='same',activation='relu'))\n",
        "model.add(MaxPooling2D())\n",
        "model.add(Flatten())\n",
        "model.add(Dense(512,activation='relu'))\n",
        "model.add(Dense(128,activation='relu'))\n",
        "model.add(Dense(7,activation='softmax'))\n",
        "model.summary()"
      ],
      "metadata": {
        "id": "-4RU4M2n8TDm",
        "colab": {
          "base_uri": "https://localhost:8080/"
        },
        "outputId": "6cccdb70-fa56-4be1-8475-d4c6b47552c2"
      },
      "execution_count": 21,
      "outputs": [
        {
          "output_type": "stream",
          "name": "stdout",
          "text": [
            "Model: \"sequential_4\"\n",
            "_________________________________________________________________\n",
            " Layer (type)                Output Shape              Param #   \n",
            "=================================================================\n",
            " conv2d_16 (Conv2D)          (None, 200, 200, 32)      896       \n",
            "                                                                 \n",
            " dropout_16 (Dropout)        (None, 200, 200, 32)      0         \n",
            "                                                                 \n",
            " max_pooling2d_16 (MaxPooli  (None, 199, 199, 32)      0         \n",
            " ng2D)                                                           \n",
            "                                                                 \n",
            " conv2d_17 (Conv2D)          (None, 199, 199, 64)      18496     \n",
            "                                                                 \n",
            " dropout_17 (Dropout)        (None, 199, 199, 64)      0         \n",
            "                                                                 \n",
            " max_pooling2d_17 (MaxPooli  (None, 99, 99, 64)        0         \n",
            " ng2D)                                                           \n",
            "                                                                 \n",
            " conv2d_18 (Conv2D)          (None, 99, 99, 128)       73856     \n",
            "                                                                 \n",
            " dropout_18 (Dropout)        (None, 99, 99, 128)       0         \n",
            "                                                                 \n",
            " max_pooling2d_18 (MaxPooli  (None, 49, 49, 128)       0         \n",
            " ng2D)                                                           \n",
            "                                                                 \n",
            " conv2d_19 (Conv2D)          (None, 49, 49, 256)       295168    \n",
            "                                                                 \n",
            " max_pooling2d_19 (MaxPooli  (None, 24, 24, 256)       0         \n",
            " ng2D)                                                           \n",
            "                                                                 \n",
            " flatten_4 (Flatten)         (None, 147456)            0         \n",
            "                                                                 \n",
            " dense_12 (Dense)            (None, 512)               75497984  \n",
            "                                                                 \n",
            " dense_13 (Dense)            (None, 128)               65664     \n",
            "                                                                 \n",
            " dense_14 (Dense)            (None, 7)                 903       \n",
            "                                                                 \n",
            "=================================================================\n",
            "Total params: 75952967 (289.74 MB)\n",
            "Trainable params: 75952967 (289.74 MB)\n",
            "Non-trainable params: 0 (0.00 Byte)\n",
            "_________________________________________________________________\n"
          ]
        }
      ]
    },
    {
      "cell_type": "code",
      "source": [
        "model.compile(loss='categorical_crossentropy', optimizer='adam', metrics=['acc'])\n",
        "history = model.fit(X_train_aug, y_train_aug, epochs=10, validation_data=(X_test2,y_test2), batch_size=32)"
      ],
      "metadata": {
        "id": "vC6zqowS8ocE",
        "colab": {
          "base_uri": "https://localhost:8080/"
        },
        "outputId": "0f6a0297-b7ec-45bf-8b41-259a34734136"
      },
      "execution_count": 22,
      "outputs": [
        {
          "output_type": "stream",
          "name": "stdout",
          "text": [
            "Epoch 1/10\n",
            "11/11 [==============================] - 4s 262ms/step - loss: 1370.8831 - acc: 0.1619 - val_loss: 1.9460 - val_acc: 0.1333\n",
            "Epoch 2/10\n",
            "11/11 [==============================] - 3s 237ms/step - loss: 1.9266 - acc: 0.1733 - val_loss: 1.9442 - val_acc: 0.2000\n",
            "Epoch 3/10\n",
            "11/11 [==============================] - 3s 239ms/step - loss: 1.7886 - acc: 0.3295 - val_loss: 1.9050 - val_acc: 0.2889\n",
            "Epoch 4/10\n",
            "11/11 [==============================] - 3s 236ms/step - loss: 1.4461 - acc: 0.5341 - val_loss: 1.8832 - val_acc: 0.2444\n",
            "Epoch 5/10\n",
            "11/11 [==============================] - 3s 236ms/step - loss: 0.9965 - acc: 0.6847 - val_loss: 1.7226 - val_acc: 0.4000\n",
            "Epoch 6/10\n",
            "11/11 [==============================] - 3s 236ms/step - loss: 0.5212 - acc: 0.8267 - val_loss: 1.8241 - val_acc: 0.2667\n",
            "Epoch 7/10\n",
            "11/11 [==============================] - 3s 237ms/step - loss: 0.2299 - acc: 0.9432 - val_loss: 1.8316 - val_acc: 0.3778\n",
            "Epoch 8/10\n",
            "11/11 [==============================] - 3s 246ms/step - loss: 0.0700 - acc: 0.9801 - val_loss: 1.7509 - val_acc: 0.3778\n",
            "Epoch 9/10\n",
            "11/11 [==============================] - 3s 240ms/step - loss: 0.1840 - acc: 0.9489 - val_loss: 1.7020 - val_acc: 0.4667\n",
            "Epoch 10/10\n",
            "11/11 [==============================] - 3s 238ms/step - loss: 0.2661 - acc: 0.9432 - val_loss: 1.7808 - val_acc: 0.3778\n"
          ]
        }
      ]
    },
    {
      "cell_type": "code",
      "source": [
        "plt.subplot(211)\n",
        "plt.title('Accuracy')\n",
        "plt.plot(history.history['acc'], label='train')\n",
        "plt.plot(history.history['val_acc'], label='test')\n",
        "plt.legend()\n",
        "plt.show()\n",
        "\n",
        "plt.subplot(211)\n",
        "plt.title('Loss')\n",
        "plt.plot(history.history['loss'], label='train')\n",
        "plt.plot(history.history['val_loss'], label='test')\n",
        "plt.legend()\n",
        "plt.show()"
      ],
      "metadata": {
        "id": "d0NsTphB8yzo",
        "colab": {
          "base_uri": "https://localhost:8080/",
          "height": 485
        },
        "outputId": "ce1c604c-0598-4197-c015-ad8698bc14e0"
      },
      "execution_count": 23,
      "outputs": [
        {
          "output_type": "display_data",
          "data": {
            "text/plain": [
              "<Figure size 640x480 with 1 Axes>"
            ],
            "image/png": "[encoded data removed]"
          },
          "metadata": {}
        },
        {
          "output_type": "display_data",
          "data": {
            "text/plain": [
              "<Figure size 640x480 with 1 Axes>"
            ],
            "image/png": "[encoded data removed]"
          },
          "metadata": {}
        }
      ]
    },
    {
      "cell_type": "markdown",
      "source": [
        "## Deepface\n"
      ],
      "metadata": {
        "id": "GvbVp2wWg7V7"
      }
    },
    {
      "cell_type": "code",
      "source": [
        "!pip install deepface\n",
        "from deepface import DeepFace"
      ],
      "metadata": {
        "id": "ZXMA8Rw1g8dv",
        "colab": {
          "base_uri": "https://localhost:8080/"
        },
        "outputId": "7313824b-7575-4f86-c480-858bd5b5cea5"
      },
      "execution_count": 24,
      "outputs": [
        {
          "output_type": "stream",
          "name": "stdout",
          "text": [
            "Collecting deepface\n",
            "  Downloading deepface-0.0.79-py3-none-any.whl (49 kB)\n",
            "\u001b[?25l     \u001b[90m━━━━━━━━━━━━━━━━━━━━━━━━━━━━━━━━━━━━━━━━\u001b[0m \u001b[32m0.0/49.6 kB\u001b[0m \u001b[31m?\u001b[0m eta \u001b[36m-:--:--\u001b[0m\r\u001b[2K     \u001b[90m━━━━━━━━━━━━━━━━━━━━━━━━━━━━━━━━━━━━━━━━\u001b[0m \u001b[32m49.6/49.6 kB\u001b[0m \u001b[31m1.7 MB/s\u001b[0m eta \u001b[36m0:00:00\u001b[0m\n",
            "\u001b[?25hRequirement already satisfied: numpy>=1.14.0 in /usr/local/lib/python3.10/dist-packages (from deepface) (1.23.5)\n",
            "Requirement already satisfied: pandas>=0.23.4 in /usr/local/lib/python3.10/dist-packages (from deepface) (1.5.3)\n",
            "Requirement already satisfied: tqdm>=4.30.0 in /usr/local/lib/python3.10/dist-packages (from deepface) (4.66.1)\n",
            "Requirement already satisfied: gdown>=3.10.1 in /usr/local/lib/python3.10/dist-packages (from deepface) (4.6.6)\n",
            "Requirement already satisfied: Pillow>=5.2.0 in /usr/local/lib/python3.10/dist-packages (from deepface) (9.4.0)\n",
            "Requirement already satisfied: opencv-python>=4.5.5.64 in /usr/local/lib/python3.10/dist-packages (from deepface) (4.8.0.76)\n",
            "Requirement already satisfied: tensorflow>=1.9.0 in /usr/local/lib/python3.10/dist-packages (from deepface) (2.14.0)\n",
            "Requirement already satisfied: keras>=2.2.0 in /usr/local/lib/python3.10/dist-packages (from deepface) (2.14.0)\n",
            "Requirement already satisfied: Flask>=1.1.2 in /usr/local/lib/python3.10/dist-packages (from deepface) (2.2.5)\n",
            "Collecting mtcnn>=0.1.0 (from deepface)\n",
            "  Downloading mtcnn-0.1.1-py3-none-any.whl (2.3 MB)\n",
            "\u001b[2K     \u001b[90m━━━━━━━━━━━━━━━━━━━━━━━━━━━━━━━━━━━━━━━━\u001b[0m \u001b[32m2.3/2.3 MB\u001b[0m \u001b[31m34.1 MB/s\u001b[0m eta \u001b[36m0:00:00\u001b[0m\n",
            "\u001b[?25hCollecting retina-face>=0.0.1 (from deepface)\n",
            "  Downloading retina_face-0.0.13-py3-none-any.whl (16 kB)\n",
            "Collecting fire>=0.4.0 (from deepface)\n",
            "  Downloading fire-0.5.0.tar.gz (88 kB)\n",
            "\u001b[2K     \u001b[90m━━━━━━━━━━━━━━━━━━━━━━━━━━━━━━━━━━━━━━━━\u001b[0m \u001b[32m88.3/88.3 kB\u001b[0m \u001b[31m12.1 MB/s\u001b[0m eta \u001b[36m0:00:00\u001b[0m\n",
            "\u001b[?25h  Preparing metadata (setup.py) ... \u001b[?25l\u001b[?25hdone\n",
            "Collecting gunicorn>=20.1.0 (from deepface)\n",
            "  Downloading gunicorn-21.2.0-py3-none-any.whl (80 kB)\n",
            "\u001b[2K     \u001b[90m━━━━━━━━━━━━━━━━━━━━━━━━━━━━━━━━━━━━━━━━\u001b[0m \u001b[32m80.2/80.2 kB\u001b[0m \u001b[31m11.4 MB/s\u001b[0m eta \u001b[36m0:00:00\u001b[0m\n",
            "\u001b[?25hRequirement already satisfied: six in /usr/local/lib/python3.10/dist-packages (from fire>=0.4.0->deepface) (1.16.0)\n",
            "Requirement already satisfied: termcolor in /usr/local/lib/python3.10/dist-packages (from fire>=0.4.0->deepface) (2.3.0)\n",
            "Requirement already satisfied: Werkzeug>=2.2.2 in /usr/local/lib/python3.10/dist-packages (from Flask>=1.1.2->deepface) (3.0.1)\n",
            "Requirement already satisfied: Jinja2>=3.0 in /usr/local/lib/python3.10/dist-packages (from Flask>=1.1.2->deepface) (3.1.2)\n",
            "Requirement already satisfied: itsdangerous>=2.0 in /usr/local/lib/python3.10/dist-packages (from Flask>=1.1.2->deepface) (2.1.2)\n",
            "Requirement already satisfied: click>=8.0 in /usr/local/lib/python3.10/dist-packages (from Flask>=1.1.2->deepface) (8.1.7)\n",
            "Requirement already satisfied: filelock in /usr/local/lib/python3.10/dist-packages (from gdown>=3.10.1->deepface) (3.13.1)\n",
            "Requirement already satisfied: requests[socks] in /usr/local/lib/python3.10/dist-packages (from gdown>=3.10.1->deepface) (2.31.0)\n",
            "Requirement already satisfied: beautifulsoup4 in /usr/local/lib/python3.10/dist-packages (from gdown>=3.10.1->deepface) (4.11.2)\n",
            "Requirement already satisfied: packaging in /usr/local/lib/python3.10/dist-packages (from gunicorn>=20.1.0->deepface) (23.2)\n",
            "Requirement already satisfied: python-dateutil>=2.8.1 in /usr/local/lib/python3.10/dist-packages (from pandas>=0.23.4->deepface) (2.8.2)\n",
            "Requirement already satisfied: pytz>=2020.1 in /usr/local/lib/python3.10/dist-packages (from pandas>=0.23.4->deepface) (2023.3.post1)\n",
            "Requirement already satisfied: absl-py>=1.0.0 in /usr/local/lib/python3.10/dist-packages (from tensorflow>=1.9.0->deepface) (1.4.0)\n",
            "Requirement already satisfied: astunparse>=1.6.0 in /usr/local/lib/python3.10/dist-packages (from tensorflow>=1.9.0->deepface) (1.6.3)\n",
            "Requirement already satisfied: flatbuffers>=23.5.26 in /usr/local/lib/python3.10/dist-packages (from tensorflow>=1.9.0->deepface) (23.5.26)\n",
            "Requirement already satisfied: gast!=0.5.0,!=0.5.1,!=0.5.2,>=0.2.1 in /usr/local/lib/python3.10/dist-packages (from tensorflow>=1.9.0->deepface) (0.5.4)\n",
            "Requirement already satisfied: google-pasta>=0.1.1 in /usr/local/lib/python3.10/dist-packages (from tensorflow>=1.9.0->deepface) (0.2.0)\n",
            "Requirement already satisfied: h5py>=2.9.0 in /usr/local/lib/python3.10/dist-packages (from tensorflow>=1.9.0->deepface) (3.9.0)\n",
            "Requirement already satisfied: libclang>=13.0.0 in /usr/local/lib/python3.10/dist-packages (from tensorflow>=1.9.0->deepface) (16.0.6)\n",
            "Requirement already satisfied: ml-dtypes==0.2.0 in /usr/local/lib/python3.10/dist-packages (from tensorflow>=1.9.0->deepface) (0.2.0)\n",
            "Requirement already satisfied: opt-einsum>=2.3.2 in /usr/local/lib/python3.10/dist-packages (from tensorflow>=1.9.0->deepface) (3.3.0)\n",
            "Requirement already satisfied: protobuf!=4.21.0,!=4.21.1,!=4.21.2,!=4.21.3,!=4.21.4,!=4.21.5,<5.0.0dev,>=3.20.3 in /usr/local/lib/python3.10/dist-packages (from tensorflow>=1.9.0->deepface) (3.20.3)\n",
            "Requirement already satisfied: setuptools in /usr/local/lib/python3.10/dist-packages (from tensorflow>=1.9.0->deepface) (67.7.2)\n",
            "Requirement already satisfied: typing-extensions>=3.6.6 in /usr/local/lib/python3.10/dist-packages (from tensorflow>=1.9.0->deepface) (4.5.0)\n",
            "Requirement already satisfied: wrapt<1.15,>=1.11.0 in /usr/local/lib/python3.10/dist-packages (from tensorflow>=1.9.0->deepface) (1.14.1)\n",
            "Requirement already satisfied: tensorflow-io-gcs-filesystem>=0.23.1 in /usr/local/lib/python3.10/dist-packages (from tensorflow>=1.9.0->deepface) (0.34.0)\n",
            "Requirement already satisfied: grpcio<2.0,>=1.24.3 in /usr/local/lib/python3.10/dist-packages (from tensorflow>=1.9.0->deepface) (1.59.2)\n",
            "Requirement already satisfied: tensorboard<2.15,>=2.14 in /usr/local/lib/python3.10/dist-packages (from tensorflow>=1.9.0->deepface) (2.14.1)\n",
            "Requirement already satisfied: tensorflow-estimator<2.15,>=2.14.0 in /usr/local/lib/python3.10/dist-packages (from tensorflow>=1.9.0->deepface) (2.14.0)\n",
            "Requirement already satisfied: wheel<1.0,>=0.23.0 in /usr/local/lib/python3.10/dist-packages (from astunparse>=1.6.0->tensorflow>=1.9.0->deepface) (0.41.3)\n",
            "Requirement already satisfied: MarkupSafe>=2.0 in /usr/local/lib/python3.10/dist-packages (from Jinja2>=3.0->Flask>=1.1.2->deepface) (2.1.3)\n",
            "Requirement already satisfied: google-auth<3,>=1.6.3 in /usr/local/lib/python3.10/dist-packages (from tensorboard<2.15,>=2.14->tensorflow>=1.9.0->deepface) (2.17.3)\n",
            "Requirement already satisfied: google-auth-oauthlib<1.1,>=0.5 in /usr/local/lib/python3.10/dist-packages (from tensorboard<2.15,>=2.14->tensorflow>=1.9.0->deepface) (1.0.0)\n",
            "Requirement already satisfied: markdown>=2.6.8 in /usr/local/lib/python3.10/dist-packages (from tensorboard<2.15,>=2.14->tensorflow>=1.9.0->deepface) (3.5.1)\n",
            "Requirement already satisfied: tensorboard-data-server<0.8.0,>=0.7.0 in /usr/local/lib/python3.10/dist-packages (from tensorboard<2.15,>=2.14->tensorflow>=1.9.0->deepface) (0.7.2)\n",
            "Requirement already satisfied: soupsieve>1.2 in /usr/local/lib/python3.10/dist-packages (from beautifulsoup4->gdown>=3.10.1->deepface) (2.5)\n",
            "Requirement already satisfied: charset-normalizer<4,>=2 in /usr/local/lib/python3.10/dist-packages (from requests[socks]->gdown>=3.10.1->deepface) (3.3.2)\n",
            "Requirement already satisfied: idna<4,>=2.5 in /usr/local/lib/python3.10/dist-packages (from requests[socks]->gdown>=3.10.1->deepface) (3.4)\n",
            "Requirement already satisfied: urllib3<3,>=1.21.1 in /usr/local/lib/python3.10/dist-packages (from requests[socks]->gdown>=3.10.1->deepface) (2.0.7)\n",
            "Requirement already satisfied: certifi>=2017.4.17 in /usr/local/lib/python3.10/dist-packages (from requests[socks]->gdown>=3.10.1->deepface) (2023.7.22)\n",
            "Requirement already satisfied: PySocks!=1.5.7,>=1.5.6 in /usr/local/lib/python3.10/dist-packages (from requests[socks]->gdown>=3.10.1->deepface) (1.7.1)\n",
            "Requirement already satisfied: cachetools<6.0,>=2.0.0 in /usr/local/lib/python3.10/dist-packages (from google-auth<3,>=1.6.3->tensorboard<2.15,>=2.14->tensorflow>=1.9.0->deepface) (5.3.2)\n",
            "Requirement already satisfied: pyasn1-modules>=0.2.1 in /usr/local/lib/python3.10/dist-packages (from google-auth<3,>=1.6.3->tensorboard<2.15,>=2.14->tensorflow>=1.9.0->deepface) (0.3.0)\n",
            "Requirement already satisfied: rsa<5,>=3.1.4 in /usr/local/lib/python3.10/dist-packages (from google-auth<3,>=1.6.3->tensorboard<2.15,>=2.14->tensorflow>=1.9.0->deepface) (4.9)\n",
            "Requirement already satisfied: requests-oauthlib>=0.7.0 in /usr/local/lib/python3.10/dist-packages (from google-auth-oauthlib<1.1,>=0.5->tensorboard<2.15,>=2.14->tensorflow>=1.9.0->deepface) (1.3.1)\n",
            "Requirement already satisfied: pyasn1<0.6.0,>=0.4.6 in /usr/local/lib/python3.10/dist-packages (from pyasn1-modules>=0.2.1->google-auth<3,>=1.6.3->tensorboard<2.15,>=2.14->tensorflow>=1.9.0->deepface) (0.5.0)\n",
            "Requirement already satisfied: oauthlib>=3.0.0 in /usr/local/lib/python3.10/dist-packages (from requests-oauthlib>=0.7.0->google-auth-oauthlib<1.1,>=0.5->tensorboard<2.15,>=2.14->tensorflow>=1.9.0->deepface) (3.2.2)\n",
            "Building wheels for collected packages: fire\n",
            "  Building wheel for fire (setup.py) ... \u001b[?25l\u001b[?25hdone\n",
            "  Created wheel for fire: filename=fire-0.5.0-py2.py3-none-any.whl size=116933 sha256=4a3981eeb75c18f97994f419d843cd4cc9f3b27c02f0518e30c64675d2002308\n",
            "  Stored in directory: /root/.cache/pip/wheels/90/d4/f7/9404e5db0116bd4d43e5666eaa3e70ab53723e1e3ea40c9a95\n",
            "Successfully built fire\n",
            "Installing collected packages: gunicorn, fire, mtcnn, retina-face, deepface\n",
            "Successfully installed deepface-0.0.79 fire-0.5.0 gunicorn-21.2.0 mtcnn-0.1.1 retina-face-0.0.13\n",
            "Directory  /root /.deepface created\n",
            "Directory  /root /.deepface/weights created\n"
          ]
        }
      ]
    },
    {
      "cell_type": "code",
      "source": [
        "\n",
        "objs = DeepFace.analyze(img_path = '/content/drive/MyDrive/Advanced Data Analytics UAX-20231025T214223Z-001/Advanced Data Analytics UAX/data/4.-CNN/emotions/Happy/image 9.png',\n",
        "        actions = ['age', 'gender', 'race', 'emotion'])\n",
        "objs"
      ],
      "metadata": {
        "id": "IXiTnP82g9Xd",
        "colab": {
          "base_uri": "https://localhost:8080/"
        },
        "outputId": "280bde0f-b7f6-4b92-bcd5-f8fd945a9d36"
      },
      "execution_count": 25,
      "outputs": [
        {
          "output_type": "stream",
          "name": "stdout",
          "text": [
            "facial_expression_model_weights.h5 will be downloaded...\n"
          ]
        },
        {
          "output_type": "stream",
          "name": "stderr",
          "text": [
            "Downloading...\n",
            "From: https://github.com/serengil/deepface_models/releases/download/v1.0/facial_expression_model_weights.h5\n",
            "To: /root/.deepface/weights/facial_expression_model_weights.h5\n",
            "100%|██████████| 5.98M/5.98M [00:00<00:00, 71.8MB/s]\n"
          ]
        },
        {
          "output_type": "stream",
          "name": "stdout",
          "text": [
            "age_model_weights.h5 will be downloaded...\n"
          ]
        },
        {
          "output_type": "stream",
          "name": "stderr",
          "text": [
            "Downloading...\n",
            "From: https://github.com/serengil/deepface_models/releases/download/v1.0/age_model_weights.h5\n",
            "To: /root/.deepface/weights/age_model_weights.h5\n",
            "100%|██████████| 539M/539M [00:04<00:00, 115MB/s]\n"
          ]
        },
        {
          "output_type": "stream",
          "name": "stdout",
          "text": [
            "gender_model_weights.h5 will be downloaded...\n"
          ]
        },
        {
          "output_type": "stream",
          "name": "stderr",
          "text": [
            "Downloading...\n",
            "From: https://github.com/serengil/deepface_models/releases/download/v1.0/gender_model_weights.h5\n",
            "To: /root/.deepface/weights/gender_model_weights.h5\n",
            "100%|██████████| 537M/537M [00:07<00:00, 73.9MB/s]\n"
          ]
        },
        {
          "output_type": "stream",
          "name": "stdout",
          "text": [
            "race_model_single_batch.h5 will be downloaded...\n"
          ]
        },
        {
          "output_type": "stream",
          "name": "stderr",
          "text": [
            "Downloading...\n",
            "From: https://github.com/serengil/deepface_models/releases/download/v1.0/race_model_single_batch.h5\n",
            "To: /root/.deepface/weights/race_model_single_batch.h5\n",
            "100%|██████████| 537M/537M [00:06<00:00, 78.0MB/s]\n",
            "Action: emotion: 100%|██████████| 4/4 [00:02<00:00,  1.82it/s]\n"
          ]
        },
        {
          "output_type": "execute_result",
          "data": {
            "text/plain": [
              "[{'age': 22,\n",
              "  'region': {'x': 15, 'y': 18, 'w': 62, 'h': 62},\n",
              "  'gender': {'Woman': 2.4317776784300804, 'Man': 97.56821990013123},\n",
              "  'dominant_gender': 'Man',\n",
              "  'race': {'asian': 2.6724970325631148e-05,\n",
              "   'indian': 0.0008598405656812247,\n",
              "   'black': 9.12765329985632e-07,\n",
              "   'white': 96.18042707443237,\n",
              "   'middle eastern': 3.5173285752534866,\n",
              "   'latino hispanic': 0.3013610141351819},\n",
              "  'dominant_race': 'white',\n",
              "  'emotion': {'angry': 0.68914633626618,\n",
              "   'disgust': 1.8245933852213531e-06,\n",
              "   'fear': 0.3170336087142592,\n",
              "   'happy': 96.9195304465014,\n",
              "   'sad': 0.004513981089829271,\n",
              "   'surprise': 2.0323156659195223,\n",
              "   'neutral': 0.03746069783576267},\n",
              "  'dominant_emotion': 'happy'}]"
            ]
          },
          "metadata": {},
          "execution_count": 25
        }
      ]
    },
    {
      "cell_type": "code",
      "source": [
        "imagen = str('/content/drive/MyDrive/Advanced Data Analytics UAX-20231025T214223Z-001/Advanced Data Analytics UAX/data/4.-CNN/emotions/Happy/image 9.png').strip()\n",
        "img = cv.imread(imagen)\n",
        "imagen = cv.resize(img,(200,200))\n",
        "imagen=imagen.reshape(1,200,200,3)\n",
        "model.predict(imagen)"
      ],
      "metadata": {
        "id": "LM59Q19OFY_9",
        "colab": {
          "base_uri": "https://localhost:8080/"
        },
        "outputId": "fadb9e41-1efd-4452-b2f3-3d2c8e265d98"
      },
      "execution_count": 28,
      "outputs": [
        {
          "output_type": "stream",
          "name": "stdout",
          "text": [
            "1/1 [==============================] - 0s 389ms/step\n"
          ]
        },
        {
          "output_type": "execute_result",
          "data": {
            "text/plain": [
              "array([[0.15859905, 0.02914591, 0.04639671, 0.44708636, 0.10494293,\n",
              "        0.17934164, 0.03448745]], dtype=float32)"
            ]
          },
          "metadata": {},
          "execution_count": 28
        }
      ]
    },
    {
      "cell_type": "code",
      "source": [],
      "metadata": {
        "id": "ESxEAsDt7Q1G"
      },
      "execution_count": 41,
      "outputs": []
    }
  ]
}